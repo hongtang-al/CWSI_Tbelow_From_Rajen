{
 "cells": [
  {
   "cell_type": "code",
   "execution_count": 73,
   "id": "54cb1c7f-c46b-45ee-ace8-5f0319b305d1",
   "metadata": {
    "tags": []
   },
   "outputs": [],
   "source": [
    "project_s3_bucket = \"arable-adse-dev\"\n",
    "project_s3_folder = \"rain_classification_april_2022\""
   ]
  },
  {
   "cell_type": "code",
   "execution_count": 74,
   "id": "fcace623-a4ef-415a-8f8b-b500b20c532d",
   "metadata": {
    "tags": []
   },
   "outputs": [],
   "source": [
    "import json\n",
    "import os\n",
    "import pickle\n",
    "import pandas as pd\n",
    "import numpy as np\n",
    "from scipy import stats\n",
    "import requests\n",
    "import boto3\n",
    "from boto3.session import Session\n",
    "from utils import df_to_s3, df_from_s3\n",
    "from calval_data_access.mark_data import get_db_data, get_user_db_creds"
   ]
  },
  {
   "cell_type": "code",
   "execution_count": 75,
   "id": "8415bad0-08fb-4a6e-95a5-b08761e79479",
   "metadata": {
    "tags": []
   },
   "outputs": [],
   "source": [
    "def get_lat_long_from_location(location_str):\n",
    "    if not os.path.isfile(\"location_cache.pkl\"):\n",
    "        location_cache = {}\n",
    "    else:\n",
    "        with open(\"location_cache.pkl\", \"rb\") as handle:\n",
    "            location_cache = pickle.load(handle)\n",
    "    if location_str in location_cache.keys():\n",
    "        return location_cache[location_str]\n",
    "    else:\n",
    "        db_creds = get_user_db_creds(\"jacob_goldberg\", \"als\")\n",
    "        query = f\"SELECT lat, long, elev FROM model_data.location WHERE id ='{location_str}'\"\n",
    "        db_response = get_db_data(db_creds, query)\n",
    "        if db_response.empty:\n",
    "            location_data = {\n",
    "                \"lat\": np.nan,\n",
    "                \"long\": np.nan,\n",
    "                \"elev\": np.nan,\n",
    "            }\n",
    "        else:\n",
    "            location_data = {\n",
    "                \"lat\": db_response[\"lat\"].iloc[0],\n",
    "                \"long\": db_response[\"long\"].iloc[0],\n",
    "                \"elev\": db_response[\"elev\"].iloc[0],\n",
    "            }\n",
    "\n",
    "        location_cache[location_str] = location_data\n",
    "        with open(\"location_cache.pkl\", \"wb\") as handle:\n",
    "            pickle.dump(location_cache, handle)\n",
    "\n",
    "        return location_data"
   ]
  },
  {
   "cell_type": "code",
   "execution_count": 76,
   "id": "9726e476-fc48-4744-a17f-506dd68975d2",
   "metadata": {
    "tags": []
   },
   "outputs": [],
   "source": [
    "def get_ibm_creds():\n",
    "    session = Session()\n",
    "    client = boto3.client(\"secretsmanager\")\n",
    "    response = client.get_secret_value(SecretId=\"ibm-datasci\")\n",
    "    ibm_creds = json.loads(response[\"SecretString\"])\n",
    "    return ibm_creds\n",
    "\n",
    "\n",
    "def _get_hod(lat, long, start, end, key):\n",
    "    endpoint = \"https://api.weather.com/v3/wx/hod/r1/direct\"\n",
    "    parameters = {\n",
    "        \"geocode\": f\"{lat},{long}\",\n",
    "        \"startDateTime\": start.strftime(\"%Y%m%dT0000\"),\n",
    "        \"endDateTime\": end.strftime(\"%Y%m%dT0000\"),\n",
    "        \"format\": \"csv\",\n",
    "        \"units\": \"metric\",\n",
    "        \"apiKey\": key,\n",
    "    }\n",
    "    request_url = requests.Request(\"GET\", endpoint, params=parameters).prepare().url\n",
    "    df = pd.read_csv(request_url)\n",
    "    return df"
   ]
  },
  {
   "cell_type": "code",
   "execution_count": 77,
   "id": "6f015506-4414-42f0-8412-e6dda9428a3e",
   "metadata": {
    "tags": []
   },
   "outputs": [],
   "source": [
    "def get_hod(lat, long, start, end, key=None):\n",
    "    \"\"\"\n",
    "    wrapper for _get_hod that respects apis 9990 row response limit\n",
    "    \"\"\"\n",
    "    if key is None:\n",
    "        key = get_ibm_creds()[\"history_on_demand\"]\n",
    "\n",
    "    call_limit_hours = 9900\n",
    "    days_requested = (end - start).days\n",
    "    hours_requested = days_requested * 24\n",
    "    if hours_requested < call_limit_hours:\n",
    "        return _get_hod(\n",
    "            lat,\n",
    "            long,\n",
    "            start,\n",
    "            end,\n",
    "            key,\n",
    "        )\n",
    "    else:\n",
    "        date_chunks = pd.date_range(start, end, freq=f\"{call_limit_hours}h\")\n",
    "        all_response_dfs = [pd.DataFrame()]\n",
    "        for i in range(len(date_chunks)):\n",
    "            if i == len(date_chunks) - 1:\n",
    "                response_df = _get_hod(lat, long, date_chunks[-1], end, key)\n",
    "            else:\n",
    "                response_df = _get_hod(\n",
    "                    lat,\n",
    "                    long,\n",
    "                    date_chunks[i],\n",
    "                    date_chunks[i + 1],\n",
    "                    key,\n",
    "                )\n",
    "            all_response_dfs.append(response_df)\n",
    "        return pd.concat(all_response_dfs)"
   ]
  },
  {
   "cell_type": "code",
   "execution_count": 78,
   "id": "fdf4517f-0f1f-4159-aa00-13cb68612116",
   "metadata": {},
   "outputs": [],
   "source": [
    "devdict={'C005285':[40.4621, -74.2927, pd.to_datetime('2022-9-1'), pd.to_datetime('2022-9-10')],\n",
    "         'C007978':[29.634, -90.835, pd.to_datetime('2022-7-25'), pd.to_datetime('2022-7-30')],\n",
    "         'C003188':[36.605, -97.489, pd.to_datetime('2022-11-1'), pd.to_datetime('2022-11-5')]\n",
    "        }"
   ]
  },
  {
   "cell_type": "code",
   "execution_count": 85,
   "id": "212b6b4c-90e6-4ac8-8ef8-9bc8d0e1e65e",
   "metadata": {
    "tags": []
   },
   "outputs": [
    {
     "name": "stdout",
     "output_type": "stream",
     "text": [
      "C005285 40.4621 -74.2927 2022-09-01 00:00:00 2022-09-10 00:00:00\n",
      "C007978 29.634 -90.835 2022-07-25 00:00:00 2022-07-30 00:00:00\n",
      "C003188 36.605 -97.489 2022-11-01 00:00:00 2022-11-05 00:00:00\n"
     ]
    }
   ],
   "source": [
    "result=pd.DataFrame()\n",
    "for key, values in devdict.items():\n",
    "    lat, lon, start_date, end_date = values\n",
    "    print(key,lat, lon, start_date, end_date)\n",
    "    _ = get_hod(lat, lon, start_date, end_date, key=None)\n",
    "    _['device']=key\n",
    "    result = pd.concat([result, _])\n",
    "    "
   ]
  },
  {
   "cell_type": "code",
   "execution_count": 86,
   "id": "450f1ef3-29ea-4526-95cb-b21702e95a00",
   "metadata": {
    "tags": []
   },
   "outputs": [],
   "source": [
    "result = result.rename(columns={'validTimeUtc': 'time'})[['time', 'device', 'latitude', 'longitude', 'precip1Hour', 'relativeHumidity', 'temperature']]"
   ]
  },
  {
   "cell_type": "code",
   "execution_count": 87,
   "id": "a2cbf1a6-b6e4-4bb4-8274-08cafa1a0db8",
   "metadata": {
    "tags": []
   },
   "outputs": [
    {
     "data": {
      "text/plain": [
       "array(['C005285', 'C007978', 'C003188'], dtype=object)"
      ]
     },
     "execution_count": 87,
     "metadata": {},
     "output_type": "execute_result"
    }
   ],
   "source": [
    "result.device.unique()"
   ]
  },
  {
   "cell_type": "code",
   "execution_count": 88,
   "id": "4e8e38e8-ed39-4a83-b7af-7e0b2fa01c26",
   "metadata": {
    "tags": []
   },
   "outputs": [
    {
     "name": "stdout",
     "output_type": "stream",
     "text": [
      "Uploaded file to s3://arable-adse-dev/rain_classification_april_2022/ibm_enrichment/ibm_rh_enriched.csv\n"
     ]
    }
   ],
   "source": [
    "df_to_s3(result, key=f\"{project_s3_folder}/ibm_enrichment/ibm_rh_enriched.csv\",bucket=project_s3_bucket)"
   ]
  },
  {
   "cell_type": "code",
   "execution_count": 44,
   "id": "686f3ad5-3812-400c-9e81-1b758ca777df",
   "metadata": {
    "tags": []
   },
   "outputs": [],
   "source": [
    "# def fetch_all_ibm_data():\n",
    "#     # Generate locations and times for data fetch from Mark data\n",
    "#     joined_mark_data = df_from_s3(\n",
    "#         f\"{project_s3_folder}/training_data/cleaned_joined_data.parquet\",\n",
    "#         project_s3_bucket,\n",
    "#         format=\"parquet\",\n",
    "#     )\n",
    "\n",
    "#     max_time = (\n",
    "#         joined_mark_data[[\"time\", \"site_id\"]]\n",
    "#         .groupby(\"site_id\")\n",
    "#         .max()\n",
    "#         .rename(columns={\"time\": \"end\"})\n",
    "#     )\n",
    "#     min_time = (\n",
    "#         joined_mark_data[[\"time\", \"site_id\"]]\n",
    "#         .groupby(\"site_id\")\n",
    "#         .min()\n",
    "#         .rename(columns={\"time\": \"start\"})\n",
    "#     )\n",
    "#     site_time_ranges = max_time.join(min_time)\n",
    "\n",
    "#     # sort of painfully slow way to get most common location for site, but\n",
    "#     # it works so leaving for now\n",
    "#     location_keys = (\n",
    "#         joined_mark_data[[\"site_id\", \"location\"]]\n",
    "#         .groupby(\"site_id\")\n",
    "#         .agg(lambda x: stats.mode(x)[0][0])\n",
    "#     )\n",
    "\n",
    "#     location_keys[\"lat\"] = location_keys[\"location\"].apply(\n",
    "#         lambda x: get_lat_long_from_location(x)[\"lat\"]\n",
    "#     )\n",
    "#     location_keys[\"long\"] = location_keys[\"location\"].apply(\n",
    "#         lambda x: get_lat_long_from_location(x)[\"long\"]\n",
    "#     )\n",
    "\n",
    "#     time_range_and_location = location_keys.join(site_time_ranges).reset_index()\n",
    "#     print(f\" Fetching IBM Data for:{time_range_and_location}\")\n",
    "\n",
    "#     for i, row in time_range_and_location.iterrows():\n",
    "#         lat = row.lat\n",
    "#         long = row.long\n",
    "#         site = row.site_id\n",
    "#         start = row.start\n",
    "#         end = row.end\n",
    "\n",
    "#         print(f\"{site}, {lat},{long},{start},{end}\")\n",
    "#         try:\n",
    "#             ibm_hod = get_hod(lat, long, start, end)\n",
    "\n",
    "#             df_to_s3(\n",
    "#                 ibm_hod,\n",
    "#                 f\"{project_s3_folder}/training_data/ibm/{site}.parquet\",\n",
    "#                 project_s3_bucket,\n",
    "#                 format=\"parquet\",\n",
    "#             )\n",
    "#         except Exception as e:\n",
    "#             print(f\"ERROR FOR {site}: {e}\")\n",
    "#             continue"
   ]
  },
  {
   "cell_type": "code",
   "execution_count": null,
   "id": "d0af9bfc-30b1-4062-a3c6-e346fb0b0669",
   "metadata": {},
   "outputs": [],
   "source": []
  }
 ],
 "metadata": {
  "availableInstances": [
   {
    "_defaultOrder": 0,
    "_isFastLaunch": true,
    "category": "General purpose",
    "gpuNum": 0,
    "memoryGiB": 4,
    "name": "ml.t3.medium",
    "vcpuNum": 2
   },
   {
    "_defaultOrder": 1,
    "_isFastLaunch": false,
    "category": "General purpose",
    "gpuNum": 0,
    "memoryGiB": 8,
    "name": "ml.t3.large",
    "vcpuNum": 2
   },
   {
    "_defaultOrder": 2,
    "_isFastLaunch": false,
    "category": "General purpose",
    "gpuNum": 0,
    "memoryGiB": 16,
    "name": "ml.t3.xlarge",
    "vcpuNum": 4
   },
   {
    "_defaultOrder": 3,
    "_isFastLaunch": false,
    "category": "General purpose",
    "gpuNum": 0,
    "memoryGiB": 32,
    "name": "ml.t3.2xlarge",
    "vcpuNum": 8
   },
   {
    "_defaultOrder": 4,
    "_isFastLaunch": true,
    "category": "General purpose",
    "gpuNum": 0,
    "memoryGiB": 8,
    "name": "ml.m5.large",
    "vcpuNum": 2
   },
   {
    "_defaultOrder": 5,
    "_isFastLaunch": false,
    "category": "General purpose",
    "gpuNum": 0,
    "memoryGiB": 16,
    "name": "ml.m5.xlarge",
    "vcpuNum": 4
   },
   {
    "_defaultOrder": 6,
    "_isFastLaunch": false,
    "category": "General purpose",
    "gpuNum": 0,
    "memoryGiB": 32,
    "name": "ml.m5.2xlarge",
    "vcpuNum": 8
   },
   {
    "_defaultOrder": 7,
    "_isFastLaunch": false,
    "category": "General purpose",
    "gpuNum": 0,
    "memoryGiB": 64,
    "name": "ml.m5.4xlarge",
    "vcpuNum": 16
   },
   {
    "_defaultOrder": 8,
    "_isFastLaunch": false,
    "category": "General purpose",
    "gpuNum": 0,
    "memoryGiB": 128,
    "name": "ml.m5.8xlarge",
    "vcpuNum": 32
   },
   {
    "_defaultOrder": 9,
    "_isFastLaunch": false,
    "category": "General purpose",
    "gpuNum": 0,
    "memoryGiB": 192,
    "name": "ml.m5.12xlarge",
    "vcpuNum": 48
   },
   {
    "_defaultOrder": 10,
    "_isFastLaunch": false,
    "category": "General purpose",
    "gpuNum": 0,
    "memoryGiB": 256,
    "name": "ml.m5.16xlarge",
    "vcpuNum": 64
   },
   {
    "_defaultOrder": 11,
    "_isFastLaunch": false,
    "category": "General purpose",
    "gpuNum": 0,
    "memoryGiB": 384,
    "name": "ml.m5.24xlarge",
    "vcpuNum": 96
   },
   {
    "_defaultOrder": 12,
    "_isFastLaunch": false,
    "category": "General purpose",
    "gpuNum": 0,
    "memoryGiB": 8,
    "name": "ml.m5d.large",
    "vcpuNum": 2
   },
   {
    "_defaultOrder": 13,
    "_isFastLaunch": false,
    "category": "General purpose",
    "gpuNum": 0,
    "memoryGiB": 16,
    "name": "ml.m5d.xlarge",
    "vcpuNum": 4
   },
   {
    "_defaultOrder": 14,
    "_isFastLaunch": false,
    "category": "General purpose",
    "gpuNum": 0,
    "memoryGiB": 32,
    "name": "ml.m5d.2xlarge",
    "vcpuNum": 8
   },
   {
    "_defaultOrder": 15,
    "_isFastLaunch": false,
    "category": "General purpose",
    "gpuNum": 0,
    "memoryGiB": 64,
    "name": "ml.m5d.4xlarge",
    "vcpuNum": 16
   },
   {
    "_defaultOrder": 16,
    "_isFastLaunch": false,
    "category": "General purpose",
    "gpuNum": 0,
    "memoryGiB": 128,
    "name": "ml.m5d.8xlarge",
    "vcpuNum": 32
   },
   {
    "_defaultOrder": 17,
    "_isFastLaunch": false,
    "category": "General purpose",
    "gpuNum": 0,
    "memoryGiB": 192,
    "name": "ml.m5d.12xlarge",
    "vcpuNum": 48
   },
   {
    "_defaultOrder": 18,
    "_isFastLaunch": false,
    "category": "General purpose",
    "gpuNum": 0,
    "memoryGiB": 256,
    "name": "ml.m5d.16xlarge",
    "vcpuNum": 64
   },
   {
    "_defaultOrder": 19,
    "_isFastLaunch": false,
    "category": "General purpose",
    "gpuNum": 0,
    "memoryGiB": 384,
    "name": "ml.m5d.24xlarge",
    "vcpuNum": 96
   },
   {
    "_defaultOrder": 20,
    "_isFastLaunch": true,
    "category": "Compute optimized",
    "gpuNum": 0,
    "memoryGiB": 4,
    "name": "ml.c5.large",
    "vcpuNum": 2
   },
   {
    "_defaultOrder": 21,
    "_isFastLaunch": false,
    "category": "Compute optimized",
    "gpuNum": 0,
    "memoryGiB": 8,
    "name": "ml.c5.xlarge",
    "vcpuNum": 4
   },
   {
    "_defaultOrder": 22,
    "_isFastLaunch": false,
    "category": "Compute optimized",
    "gpuNum": 0,
    "memoryGiB": 16,
    "name": "ml.c5.2xlarge",
    "vcpuNum": 8
   },
   {
    "_defaultOrder": 23,
    "_isFastLaunch": false,
    "category": "Compute optimized",
    "gpuNum": 0,
    "memoryGiB": 32,
    "name": "ml.c5.4xlarge",
    "vcpuNum": 16
   },
   {
    "_defaultOrder": 24,
    "_isFastLaunch": false,
    "category": "Compute optimized",
    "gpuNum": 0,
    "memoryGiB": 72,
    "name": "ml.c5.9xlarge",
    "vcpuNum": 36
   },
   {
    "_defaultOrder": 25,
    "_isFastLaunch": false,
    "category": "Compute optimized",
    "gpuNum": 0,
    "memoryGiB": 96,
    "name": "ml.c5.12xlarge",
    "vcpuNum": 48
   },
   {
    "_defaultOrder": 26,
    "_isFastLaunch": false,
    "category": "Compute optimized",
    "gpuNum": 0,
    "memoryGiB": 144,
    "name": "ml.c5.18xlarge",
    "vcpuNum": 72
   },
   {
    "_defaultOrder": 27,
    "_isFastLaunch": false,
    "category": "Compute optimized",
    "gpuNum": 0,
    "memoryGiB": 192,
    "name": "ml.c5.24xlarge",
    "vcpuNum": 96
   },
   {
    "_defaultOrder": 28,
    "_isFastLaunch": true,
    "category": "Accelerated computing",
    "gpuNum": 1,
    "memoryGiB": 16,
    "name": "ml.g4dn.xlarge",
    "vcpuNum": 4
   },
   {
    "_defaultOrder": 29,
    "_isFastLaunch": false,
    "category": "Accelerated computing",
    "gpuNum": 1,
    "memoryGiB": 32,
    "name": "ml.g4dn.2xlarge",
    "vcpuNum": 8
   },
   {
    "_defaultOrder": 30,
    "_isFastLaunch": false,
    "category": "Accelerated computing",
    "gpuNum": 1,
    "memoryGiB": 64,
    "name": "ml.g4dn.4xlarge",
    "vcpuNum": 16
   },
   {
    "_defaultOrder": 31,
    "_isFastLaunch": false,
    "category": "Accelerated computing",
    "gpuNum": 1,
    "memoryGiB": 128,
    "name": "ml.g4dn.8xlarge",
    "vcpuNum": 32
   },
   {
    "_defaultOrder": 32,
    "_isFastLaunch": false,
    "category": "Accelerated computing",
    "gpuNum": 4,
    "memoryGiB": 192,
    "name": "ml.g4dn.12xlarge",
    "vcpuNum": 48
   },
   {
    "_defaultOrder": 33,
    "_isFastLaunch": false,
    "category": "Accelerated computing",
    "gpuNum": 1,
    "memoryGiB": 256,
    "name": "ml.g4dn.16xlarge",
    "vcpuNum": 64
   },
   {
    "_defaultOrder": 34,
    "_isFastLaunch": false,
    "category": "Accelerated computing",
    "gpuNum": 1,
    "memoryGiB": 61,
    "name": "ml.p3.2xlarge",
    "vcpuNum": 8
   },
   {
    "_defaultOrder": 35,
    "_isFastLaunch": false,
    "category": "Accelerated computing",
    "gpuNum": 4,
    "memoryGiB": 244,
    "name": "ml.p3.8xlarge",
    "vcpuNum": 32
   },
   {
    "_defaultOrder": 36,
    "_isFastLaunch": false,
    "category": "Accelerated computing",
    "gpuNum": 8,
    "memoryGiB": 488,
    "name": "ml.p3.16xlarge",
    "vcpuNum": 64
   },
   {
    "_defaultOrder": 37,
    "_isFastLaunch": false,
    "category": "Accelerated computing",
    "gpuNum": 8,
    "memoryGiB": 768,
    "name": "ml.p3dn.24xlarge",
    "vcpuNum": 96
   },
   {
    "_defaultOrder": 38,
    "_isFastLaunch": false,
    "category": "Memory Optimized",
    "gpuNum": 0,
    "memoryGiB": 16,
    "name": "ml.r5.large",
    "vcpuNum": 2
   },
   {
    "_defaultOrder": 39,
    "_isFastLaunch": false,
    "category": "Memory Optimized",
    "gpuNum": 0,
    "memoryGiB": 32,
    "name": "ml.r5.xlarge",
    "vcpuNum": 4
   },
   {
    "_defaultOrder": 40,
    "_isFastLaunch": false,
    "category": "Memory Optimized",
    "gpuNum": 0,
    "memoryGiB": 64,
    "name": "ml.r5.2xlarge",
    "vcpuNum": 8
   },
   {
    "_defaultOrder": 41,
    "_isFastLaunch": false,
    "category": "Memory Optimized",
    "gpuNum": 0,
    "memoryGiB": 128,
    "name": "ml.r5.4xlarge",
    "vcpuNum": 16
   },
   {
    "_defaultOrder": 42,
    "_isFastLaunch": false,
    "category": "Memory Optimized",
    "gpuNum": 0,
    "memoryGiB": 256,
    "name": "ml.r5.8xlarge",
    "vcpuNum": 32
   },
   {
    "_defaultOrder": 43,
    "_isFastLaunch": false,
    "category": "Memory Optimized",
    "gpuNum": 0,
    "memoryGiB": 384,
    "name": "ml.r5.12xlarge",
    "vcpuNum": 48
   },
   {
    "_defaultOrder": 44,
    "_isFastLaunch": false,
    "category": "Memory Optimized",
    "gpuNum": 0,
    "memoryGiB": 512,
    "name": "ml.r5.16xlarge",
    "vcpuNum": 64
   },
   {
    "_defaultOrder": 45,
    "_isFastLaunch": false,
    "category": "Memory Optimized",
    "gpuNum": 0,
    "memoryGiB": 768,
    "name": "ml.r5.24xlarge",
    "vcpuNum": 96
   },
   {
    "_defaultOrder": 46,
    "_isFastLaunch": false,
    "category": "Accelerated computing",
    "gpuNum": 1,
    "memoryGiB": 16,
    "name": "ml.g5.xlarge",
    "vcpuNum": 4
   },
   {
    "_defaultOrder": 47,
    "_isFastLaunch": false,
    "category": "Accelerated computing",
    "gpuNum": 1,
    "memoryGiB": 32,
    "name": "ml.g5.2xlarge",
    "vcpuNum": 8
   },
   {
    "_defaultOrder": 48,
    "_isFastLaunch": false,
    "category": "Accelerated computing",
    "gpuNum": 1,
    "memoryGiB": 64,
    "name": "ml.g5.4xlarge",
    "vcpuNum": 16
   },
   {
    "_defaultOrder": 49,
    "_isFastLaunch": false,
    "category": "Accelerated computing",
    "gpuNum": 1,
    "memoryGiB": 128,
    "name": "ml.g5.8xlarge",
    "vcpuNum": 32
   },
   {
    "_defaultOrder": 50,
    "_isFastLaunch": false,
    "category": "Accelerated computing",
    "gpuNum": 1,
    "memoryGiB": 256,
    "name": "ml.g5.16xlarge",
    "vcpuNum": 64
   },
   {
    "_defaultOrder": 51,
    "_isFastLaunch": false,
    "category": "Accelerated computing",
    "gpuNum": 4,
    "memoryGiB": 192,
    "name": "ml.g5.12xlarge",
    "vcpuNum": 48
   },
   {
    "_defaultOrder": 52,
    "_isFastLaunch": false,
    "category": "Accelerated computing",
    "gpuNum": 4,
    "memoryGiB": 384,
    "name": "ml.g5.24xlarge",
    "vcpuNum": 96
   },
   {
    "_defaultOrder": 53,
    "_isFastLaunch": false,
    "category": "Accelerated computing",
    "gpuNum": 8,
    "memoryGiB": 768,
    "name": "ml.g5.48xlarge",
    "vcpuNum": 192
   }
  ],
  "instance_type": "ml.m5.large",
  "kernelspec": {
   "display_name": "Python 3 (Data Science)",
   "language": "python",
   "name": "python3__SAGEMAKER_INTERNAL__arn:aws:sagemaker:us-east-1:081325390199:image/datascience-1.0"
  },
  "language_info": {
   "codemirror_mode": {
    "name": "ipython",
    "version": 3
   },
   "file_extension": ".py",
   "mimetype": "text/x-python",
   "name": "python",
   "nbconvert_exporter": "python",
   "pygments_lexer": "ipython3",
   "version": "3.7.10"
  }
 },
 "nbformat": 4,
 "nbformat_minor": 5
}
